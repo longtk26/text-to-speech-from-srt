{
 "cells": [
  {
   "cell_type": "markdown",
   "id": "029be2f7-9ccc-4c45-9009-831c387195c5",
   "metadata": {},
   "source": [
    "# Research text to speech technologies from srt file"
   ]
  },
  {
   "cell_type": "markdown",
   "id": "d3ac7c07-8a59-414c-ae1e-56b75a77f3bd",
   "metadata": {},
   "source": [
    "This notebook implements a pipeline for converting subtitle files (SRT format) to natural-sounding speech audio. It utilizes the TTS library to generate speech from text segments and combines them with proper timing to match the original subtitle timing.\n",
    "\n",
    "## Overview\n",
    "\n",
    "The notebook provides functionality to:\n",
    "1. Parse SRT subtitle files\n",
    "2. Generate speech for each subtitle segment using various TTS models\n",
    "3. Adjust speech speed to match subtitle timing\n",
    "4. Combine all segments into a continuous audio file\n",
    "\n",
    "This approach is useful for creating voiceovers for videos, generating audio versions of subtitled content, or creating accessible versions of media"
   ]
  },
  {
   "cell_type": "markdown",
   "id": "aa178397-b5e9-4c68-ac84-2f34f7f47288",
   "metadata": {},
   "source": [
    "## Dependencies\n",
    "\n",
    "The implementation relies on the following libraries:\n",
    "- `srt`: For parsing SRT subtitle files\n",
    "- `torch`: PyTorch for deep learning operations\n",
    "- `coqui-tts`: Text-to-Speech library for generating speech\n",
    "- `pydub`: For audio processing and manipulation\n",
    "- `IPython.display`: For audio playback in the notebook"
   ]
  },
  {
   "cell_type": "markdown",
   "id": "8b293a36-713f-403e-88ab-66908ac60341",
   "metadata": {},
   "source": [
    "## Key Components\n",
    "\n",
    "### SRT Parsing\n",
    "The notebook provides functionality to parse SRT subtitle files, extracting timing information and text content.\n",
    "\n",
    "### Text-to-Speech Generation\n",
    "Multiple TTS models are supported:\n",
    "- English TTS model\n",
    "- Vietnamese TTS model\n",
    "- Multilingual model with support for different voices\n",
    "\n",
    "### Audio Processing\n",
    "The system intelligently:\n",
    "- Adjusts speech speed to match subtitle timing\n",
    "- Handles silences between subtitles\n",
    "- Combines multiple audio segments into a continuous track"
   ]
  },
  {
   "cell_type": "markdown",
   "id": "513d6761-71cc-4996-bc85-4583f6636c44",
   "metadata": {},
   "source": [
    "# Experimentation Guidelines\n",
    "\n",
    "This section provides guidelines on how to experiment with and extend this notebook for your text-to-speech projects.\n",
    "\n",
    "1. **Setup Environment**:\n",
    "   - Create your virtual environment: `python3 -m venv venv`\n",
    "   - Install dependencies: `pip3 install -r requirements.txt`\n",
    "\n",
    "3. **Prepare Your SRT Files**:\n",
    "   - Place your SRT files in the `srt/` directory\n",
    "   - Ensure they're properly formatted and encoded (UTF-8 recommended)\n",
    "\n",
    "4. **Basic Usage**:\n",
    "   - Run the example code cell to convert an SRT file to audio:\n",
    "     ```python\n",
    "     create_audio_from_srt(\"srt/your_file.srt\", \"output_filename.wav\")\n",
    "     ```\n",
    "   - Listen to the generated audio to evaluate quality"
   ]
  },
  {
   "cell_type": "code",
   "execution_count": 1,
   "id": "9026e016-0949-4557-9fa8-ab08918113cb",
   "metadata": {},
   "outputs": [
    {
     "name": "stderr",
     "output_type": "stream",
     "text": [
      "/root/backend/research/text-to-speech/venv/lib/python3.10/site-packages/tqdm/auto.py:21: TqdmWarning: IProgress not found. Please update jupyter and ipywidgets. See https://ipywidgets.readthedocs.io/en/stable/user_install.html\n",
      "  from .autonotebook import tqdm as notebook_tqdm\n"
     ]
    }
   ],
   "source": [
    "import srt\n",
    "import torch\n",
    "import os\n",
    "from TTS.api import TTS\n",
    "from IPython.display import Audio\n",
    "from pydub import AudioSegment\n",
    "import tempfile"
   ]
  },
  {
   "cell_type": "code",
   "execution_count": 2,
   "id": "f914565f-8ce6-4dae-a436-b55eba0c85ea",
   "metadata": {},
   "outputs": [],
   "source": [
    "def parse_srt(srt_file):\n",
    "    with open(srt_file, 'r', encoding='utf-8') as file:\n",
    "        subtitles = srt.parse(file.read())\n",
    "        segments = [(sub.start, sub.end, sub.content) for sub in subtitles]\n",
    "    return segments"
   ]
  },
  {
   "cell_type": "code",
   "execution_count": 3,
   "id": "cb87550e-a1f9-487f-8816-1c69a0274a48",
   "metadata": {},
   "outputs": [],
   "source": [
    "model_vie = \"tts_models/vie/fairseq/vits\"\n",
    "model_eng = \"tts_models/eng/fairseq/vits\"\n",
    "model_multilang = \"tts_models/multilingual/multi-dataset/xtts_v2\"\n",
    "model_en_tortoise = \"tts_models/en/multi-dataset/tortoise-v2\"\n",
    "model_multi_bark = \"tts_models/multilingual/multi-dataset/bark\""
   ]
  },
  {
   "cell_type": "code",
   "execution_count": 4,
   "id": "2b79710a-48ca-4d33-b5c6-39c0da5e68ec",
   "metadata": {},
   "outputs": [],
   "source": [
    "def text_to_speech(text, output_path, model_name):\n",
    "    try:\n",
    "        device = \"cuda\" if torch.cuda.is_available() else \"cpu\"\n",
    "        api = TTS(model_name=model_name)\n",
    "        api.tts_to_file(texttext,\n",
    "                file_path=\"output.wav\",\n",
    "                speaker_wav=[\"speaker1.wav\"],\n",
    "                speaker=\"en_speaker\",\n",
    "                num_autoregressive_samples=1,\n",
    "                diffusion_iterations=10)\n",
    "        api.tts_to_file(text=text,\n",
    "                file_path=output_path,\n",
    "                speaker=\"en_speaker\",\n",
    "                preset=\"ultra_fast\")\n",
    "        result = api.tts_to_file(text, speaker_wav=\"speaker1.wav\", file_path=output_path)\n",
    "        print(\"result\", result)\n",
    "    except Exception as e:\n",
    "        print(f\"❌ TTS failed: {e}\")\n",
    "        return"
   ]
  },
  {
   "cell_type": "code",
   "execution_count": 5,
   "id": "ee823696-9588-4bd5-a7a8-0dcb5822f109",
   "metadata": {},
   "outputs": [],
   "source": [
    "def text_to_speech_multilang(text, output_path, speaker, model_name):\n",
    "    try:\n",
    "        device = \"cuda\" if torch.cuda.is_available() else \"cpu\"\n",
    "        tts = TTS(model_name=model_name, progress_bar=True).to(device)\n",
    "        tts.tts_to_file(\n",
    "              text=text,\n",
    "              speaker_wav=[speaker],\n",
    "              speaker=\"MySpeaker1\",\n",
    "              language=\"en\",\n",
    "            )\n",
    "        result = tts.tts_to_file(\n",
    "                  text=text,\n",
    "                  speaker=\"MySpeaker1\",\n",
    "                  language=\"en\",\n",
    "                  file_path=output_path\n",
    "                )\n",
    "    except Exception as e:\n",
    "        print(f\"❌ TTS failed: {e}\")\n",
    "        return"
   ]
  },
  {
   "cell_type": "code",
   "execution_count": 6,
   "id": "6b1f4f87-95da-4e86-aad1-d77a326a55e0",
   "metadata": {},
   "outputs": [],
   "source": [
    "def combine_audio_segments(segments, model_name=\"tts_models/eng/fairseq/vits\", temp_dir=\"audio\"):\n",
    "    \"\"\"\n",
    "    Combine audio segments with speed adjustment based on subtitle timing\n",
    "    \n",
    "    Args:\n",
    "        segments: List of tuples (start_time, end_time, content)\n",
    "        model_name: TTS model to use\n",
    "        temp_dir: Directory for temporary audio files\n",
    "    \"\"\"\n",
    "    \n",
    "    \n",
    "    # Create temp directory if it doesn't exist\n",
    "    os.makedirs(temp_dir, exist_ok=True)\n",
    "    \n",
    "    combined = AudioSegment.silent(duration=0)\n",
    "    current_time = 0  # Track current position in milliseconds\n",
    "    \n",
    "    for i, (start, end, content) in enumerate(segments):\n",
    "        # Convert timedelta to milliseconds\n",
    "        start_ms = start.total_seconds() * 1000\n",
    "        end_ms = end.total_seconds() * 1000\n",
    "        target_duration_ms = end_ms - start_ms\n",
    "        \n",
    "        # Skip empty content\n",
    "        if not content.strip():\n",
    "            continue\n",
    "        \n",
    "        # Generate TTS audio for this segment\n",
    "        temp_audio_path = os.path.join(temp_dir, f\"segment_{i}.wav\")\n",
    "        \n",
    "        try:\n",
    "            # Generate TTS audio\n",
    "            text_to_speech_multilang(content.strip(), temp_audio_path, \"speaker1.wav\", model_name)\n",
    "            \n",
    "            # Load the generated audio\n",
    "            if os.path.exists(temp_audio_path):\n",
    "                audio_segment = AudioSegment.from_wav(temp_audio_path)\n",
    "                original_duration_ms = len(audio_segment)\n",
    "                \n",
    "                # Calculate speed ratio to fit target duration\n",
    "                if original_duration_ms > 0 and target_duration_ms > 0:\n",
    "                    speed_ratio = original_duration_ms / target_duration_ms\n",
    "                    \n",
    "                    # Adjust playback speed\n",
    "                    # speed_ratio > 1: need to speed up (shorter duration)\n",
    "                    # speed_ratio < 1: need to slow down (longer duration)\n",
    "                    adjusted_audio = audio_segment._spawn(\n",
    "                        audio_segment.raw_data, \n",
    "                        overrides={\"frame_rate\": int(audio_segment.frame_rate * speed_ratio)}\n",
    "                    ).set_frame_rate(audio_segment.frame_rate)\n",
    "                    \n",
    "                    # Ensure the duration matches exactly (trim or pad if needed)\n",
    "                    if len(adjusted_audio) > target_duration_ms:\n",
    "                        adjusted_audio = adjusted_audio[:int(target_duration_ms)]\n",
    "                    elif len(adjusted_audio) < target_duration_ms:\n",
    "                        padding = AudioSegment.silent(duration=int(target_duration_ms - len(adjusted_audio)))\n",
    "                        adjusted_audio = adjusted_audio + padding\n",
    "                else:\n",
    "                    # Fallback: use original audio or silence\n",
    "                    adjusted_audio = AudioSegment.silent(duration=int(target_duration_ms))\n",
    "                \n",
    "                # Add silence gap if needed (between current position and start time)\n",
    "                if start_ms > current_time:\n",
    "                    silence_duration = start_ms - current_time\n",
    "                    silence = AudioSegment.silent(duration=int(silence_duration))\n",
    "                    combined += silence\n",
    "                \n",
    "                # Add the adjusted audio segment\n",
    "                combined += adjusted_audio\n",
    "                current_time = end_ms\n",
    "                \n",
    "                # Clean up temp file\n",
    "                os.remove(temp_audio_path)\n",
    "                \n",
    "                print(f\"✅ Processed segment {i+1}: '{content[:50]}...' (Speed ratio: {speed_ratio:.2f})\")\n",
    "                \n",
    "            else:\n",
    "                print(f\"❌ Failed to generate audio for segment {i+1}\")\n",
    "                # Add silence for failed segments\n",
    "                if start_ms > current_time:\n",
    "                    silence_duration = start_ms - current_time\n",
    "                    silence = AudioSegment.silent(duration=int(silence_duration))\n",
    "                    combined += silence\n",
    "                \n",
    "                silence_segment = AudioSegment.silent(duration=int(target_duration_ms))\n",
    "                combined += silence_segment\n",
    "                current_time = end_ms\n",
    "                \n",
    "        except Exception as e:\n",
    "            print(f\"❌ Error processing segment {i+1}: {e}\")\n",
    "            # Add silence for failed segments\n",
    "            if start_ms > current_time:\n",
    "                silence_duration = start_ms - current_time\n",
    "                silence = AudioSegment.silent(duration=int(silence_duration))\n",
    "                combined += silence\n",
    "            \n",
    "            silence_segment = AudioSegment.silent(duration=int(target_duration_ms))\n",
    "            combined += silence_segment\n",
    "            current_time = end_ms\n",
    "    \n",
    "    # Clean up temp directory\n",
    "    try:\n",
    "        os.rmdir(temp_dir)\n",
    "    except:\n",
    "        pass  # Directory might not be empty or might not exist\n",
    "    \n",
    "    return combined\n",
    "\n",
    "# Example usage:\n",
    "def create_audio_from_srt(srt_file, output_audio, model_name=\"tts_models/eng/fairseq/vits\"):\n",
    "    \"\"\"\n",
    "    Complete workflow: parse SRT -> generate TTS -> combine audio\n",
    "    \"\"\"\n",
    "    # Parse the SRT file\n",
    "    segments = parse_srt(srt_file)\n",
    "    print(f\"📄 Parsed {len(segments)} segments from {srt_file}\")\n",
    "    \n",
    "    # Generate and combine audio\n",
    "    combined_audio = combine_audio_segments(segments, model_name)\n",
    "    \n",
    "    # Export the final audio\n",
    "    combined_audio.export(output_audio, format=\"wav\")\n",
    "    print(f\"🎵 Audio saved to: {output_audio}\")\n",
    "    \n",
    "    return combined_audio"
   ]
  },
  {
   "cell_type": "code",
   "execution_count": 7,
   "id": "6676c3b5-ce8d-41b2-9925-4e652154e85d",
   "metadata": {},
   "outputs": [
    {
     "name": "stdout",
     "output_type": "stream",
     "text": [
      "📄 Parsed 2 segments from srt/version2.srt\n",
      "✅ Processed segment 1: 'Welcome to SubtitleWise!\n",
      "This is a sample SRT subt...' (Speed ratio: 1.79)\n",
      "✅ Processed segment 2: 'You can use this file to test\n",
      "our subtitle tools....' (Speed ratio: 1.18)\n",
      "🎵 Audio saved to: version2.wav\n"
     ]
    },
    {
     "data": {
      "text/html": [
       "\n",
       "                    <audio controls>\n",
       "                        <source src=\"data:audio/mpeg;base64,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\" type=\"audio/mpeg\"/>\n",
       "                        Your browser does not support the audio element.\n",
       "                    </audio>\n",
       "                  "
      ],
      "text/plain": [
       "<pydub.audio_segment.AudioSegment at 0x7f085c508d00>"
      ]
     },
     "execution_count": 7,
     "metadata": {},
     "output_type": "execute_result"
    }
   ],
   "source": [
    "create_audio_from_srt(\"srt/version2.srt\", \"version2.wav\", model_multilang)"
   ]
  }
 ],
 "metadata": {
  "kernelspec": {
   "display_name": "Python 3 (ipykernel)",
   "language": "python",
   "name": "python3"
  },
  "language_info": {
   "codemirror_mode": {
    "name": "ipython",
    "version": 3
   },
   "file_extension": ".py",
   "mimetype": "text/x-python",
   "name": "python",
   "nbconvert_exporter": "python",
   "pygments_lexer": "ipython3",
   "version": "3.10.14"
  }
 },
 "nbformat": 4,
 "nbformat_minor": 5
}
